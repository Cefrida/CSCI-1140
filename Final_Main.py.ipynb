{
 "cells": [
  {
   "cell_type": "markdown",
   "id": "22a63448",
   "metadata": {},
   "source": [
    "**PASSWORD MANAGER**\n",
    "\n",
    "I created a class to represent a Password Manager and wrote a main program which created and tested instances of this class. This Password Manager can create and store logins and passwords to websites for a user. This Password Manager will store a collection of web site addresses with their associated username and password. \n"
   ]
  },
  {
   "cell_type": "markdown",
   "id": "b228a5eb",
   "metadata": {},
   "source": [
    "**The instructions for this project were as follows:**\n",
    "1. The user will pass in two arguments: name – the name of the owner of this PasswordManager and master_pw, which is the master password selected by the user. Both of these should be stored as private attributes of the PasswordManager object. \n",
    "2. The constructor should also create an empty dataframe that will hold the websites and their associated data. "
   ]
  },
  {
   "cell_type": "markdown",
   "id": "bba7f8f4",
   "metadata": {},
   "source": [
    "**Submission Expectations**\n",
    "\n",
    "• Create a PasswordManager with the name 'Student' and the master password 'FINAL'\n",
    "\n",
    "• Add the site 'www.gmail.com' with the username 'a_student' and a randomly generated\n",
    "password using default settings\n",
    "\n",
    "• Add the site 'www.wm.edu' with the username 'WMstudent' and a randomly generated\n",
    "password that has a maximum of 2 special characters and a minimum of 2 upper case\n",
    "characters, all other parameters are defaults\n",
    "\n",
    "• Change the password for 'www.gmail.com' to 'update1235'\n",
    "\n",
    "• Get the site information for 'www.wm.edu'\n",
    "\n",
    "• Print out a string representation of the PasswordManager object you made"
   ]
  },
  {
   "cell_type": "markdown",
   "id": "e5b1227b",
   "metadata": {},
   "source": [
    "**Creating a class for the PasswordManager:**"
   ]
  },
  {
   "cell_type": "code",
   "execution_count": 84,
   "id": "ec319d7c",
   "metadata": {},
   "outputs": [],
   "source": [
    "import random\n",
    "import string\n",
    "from random import randint, shuffle, sample, choices\n",
    "import pandas as pd\n",
    "\n",
    "\n",
    "class PasswordManager:\n",
    "    \n",
    "    def __init__(self, name, master_pw):\n",
    "        self.__passwords = pd.DataFrame(columns = ['Site','Username','Password'])\n",
    "        self.__passwords.set_index('Site', inplace = True)\n",
    "        self.__name = name\n",
    "        self.__master_pw = master_pw\n",
    "\n",
    "    def __password_specs(self, length = 14, min_spec = 0, max_spec = 0, min_num = 0, min_upper = 0):\n",
    "        num_sc = randint(min_spec, min((max_spec), (length - min_num - min_upper))) \n",
    "        num_num = randint(min_num, length - num_sc  - min_upper)\n",
    "        num_upper = randint(min_upper, length - num_sc - num_num)\n",
    "        num_lower = length - (num_sc + num_num + num_upper)\n",
    "        return [num_sc, num_num, num_upper, num_lower]\n",
    "    \n",
    "  \n",
    "    def __password_gen(self, criteria = None,length = 14, spec_char = '@!&', repeat = True, min_spec = 0, max_spec = 0, min_num = 0, min_upper = 0):\n",
    "        if criteria != None:\n",
    "            for key in criteria:\n",
    "                if key == 'length':\n",
    "                    length = criteria[key]\n",
    "                if key == 'spec_char':\n",
    "                    spec_char = criteria[key]\n",
    "                if key == 'repeat':\n",
    "                    repeat = criteria[key]\n",
    "                if key == 'min_spec':\n",
    "                    min_spec = criteria[key]\n",
    "                if key == 'max_spec':\n",
    "                    max_spec = criteria[key]\n",
    "                if key == 'min_num':\n",
    "                    min_num = criteria[key]\n",
    "                if key == 'min_upper':\n",
    "                    min_upper = criteria[key]\n",
    "        if(max_spec < min_spec): \n",
    "            max_spec = min_spec \n",
    "        required = sum([min_spec, min_num, min_upper]) \n",
    "        if required <= length and (repeat or len(spec_char)>=min_spec): #or len(spec_char) <= max_spec): \n",
    "            specs = self.__password_specs(length, min_spec, max_spec, min_num, min_upper)\n",
    "            if(repeat): \n",
    "                password = random.choices(string.ascii_lowercase, k=specs[3]) + random.choices(string.ascii_uppercase, k=specs[2]) + random.choices(string.digits, k=specs[1]) + random.choices(spec_char, k=specs[0])\n",
    "            else:\n",
    "                while specs[0] > len(spec_char) or specs[1] > len(string.digits) or specs[2] > len(string.ascii_uppercase) or specs[3] > len(string.ascii_lowercase):\n",
    "                    specs = self.__password_specs(length, min_spec, max_spec, min_num, min_upper)\n",
    "                password = random.sample(string.ascii_lowercase, k=specs[3]) + random.sample(string.ascii_uppercase, k=specs[2]) + random.sample(string.digits, k=specs[1]) + random.sample(spec_char, k=specs[0])\n",
    "            shuffle(password)\n",
    "            return ''.join(password)\n",
    "\n",
    "    def add_password(self, site, username, criteria = None):\n",
    "        if site not in self.__passwords.index:   \n",
    "            if criteria != None: \n",
    "                password = self.__password_gen(criteria)\n",
    "            if criteria == None:\n",
    "                password = self.__password_gen()\n",
    "            if password != None: \n",
    "                self.__passwords.loc[site] = [username, password]\n",
    "            else: \n",
    "                print ('Invalid specifications!')\n",
    "    \n",
    "    def validate(self, mp): #works\n",
    "        return mp == self.__master_pw\n",
    "    \n",
    "    def change_password(self, site, master_pass, new_pass = None, criteria = None):\n",
    "        if self.validate(master_pass) == True: #check if master pw is correct\n",
    "            if site in self.__passwords.index:#check if site exists\n",
    "                if new_pass != None:#check if new password is given, if not\n",
    "                    self.__passwords.loc[site]['Password'] = new_pass #generate new password with criteria #add new pass to df\n",
    "                else: \n",
    "                    new_pass = self.__password_gen(criteria)\n",
    "                    if new_pass == None:\n",
    "                        print('Invalid criteria!')\n",
    "                        return False \n",
    "                    else: \n",
    "                        self.__passwords.loc[site]['Password'] = new_pass\n",
    "            else:\n",
    "                print('Site does not exist!')\n",
    "                return False \n",
    "        else:\n",
    "            print('Incorrect master password!')\n",
    "            return False \n",
    "        \n",
    "    def give_pass(self):\n",
    "        return self.__passwords\n",
    "\n",
    "    def remove_site(self, site):\n",
    "        if site in self.__passwords.index:\n",
    "            return self.__passwords.drop(site, inplace = True)\n",
    "\n",
    "    def get_site_info(self, site):\n",
    "        if site in self.__passwords.index:\n",
    "            return [self.__passwords.loc[site]['Username'], self.__passwords.loc[site]['Password']]\n",
    "\n",
    "    def get_name(self): \n",
    "        return self.__name\n",
    "\n",
    "    def get_site_list(self): \n",
    "        return list(self.__passwords.index)\n",
    "\n",
    "    def __str__(self):\n",
    "        site = ['Sites stored for '+str(self.__name) +':']\n",
    "        site += self.get_site_list()\n",
    "        return(\"\\n\".join(site))\n",
    "    "
   ]
  },
  {
   "cell_type": "markdown",
   "id": "dc3ed65b",
   "metadata": {},
   "source": [
    "Below I am creating a PasswordManager with the name 'Student' and the master password 'FINAL'"
   ]
  },
  {
   "cell_type": "code",
   "execution_count": 85,
   "id": "63a042fc",
   "metadata": {},
   "outputs": [],
   "source": [
    "My_Pass_Manager = PasswordManager('Student', 'FINAL') "
   ]
  },
  {
   "cell_type": "markdown",
   "id": "219f72bf",
   "metadata": {},
   "source": [
    "Next I am adding the site 'www.gmail.com' with the username 'a_student' and a randomly generated password using default settings"
   ]
  },
  {
   "cell_type": "code",
   "execution_count": 86,
   "id": "533de37e",
   "metadata": {},
   "outputs": [],
   "source": [
    "My_Pass_Manager.add_password('www.gmail.com', 'a_student')"
   ]
  },
  {
   "cell_type": "markdown",
   "id": "2f90f396",
   "metadata": {},
   "source": [
    "Then, I am adding the site 'www.wm.edu' with the username 'WMstudent' and a randomly generated password that has a maximum of 2 special characters and a minimum of 2 upper case characters, all other parameters are defaults"
   ]
  },
  {
   "cell_type": "code",
   "execution_count": 87,
   "id": "23209e74",
   "metadata": {},
   "outputs": [],
   "source": [
    "My_Pass_Manager.add_password('www.wm.edu', 'WMstudent', {'max_spec': 2, 'min_upper':2})"
   ]
  },
  {
   "cell_type": "markdown",
   "id": "29ba54a1",
   "metadata": {},
   "source": [
    "Finally I am returning a dataframe for this Student's usernames and passwords"
   ]
  },
  {
   "cell_type": "code",
   "execution_count": 88,
   "id": "f5d7fbc7",
   "metadata": {},
   "outputs": [
    {
     "data": {
      "text/html": [
       "<div>\n",
       "<style scoped>\n",
       "    .dataframe tbody tr th:only-of-type {\n",
       "        vertical-align: middle;\n",
       "    }\n",
       "\n",
       "    .dataframe tbody tr th {\n",
       "        vertical-align: top;\n",
       "    }\n",
       "\n",
       "    .dataframe thead th {\n",
       "        text-align: right;\n",
       "    }\n",
       "</style>\n",
       "<table border=\"1\" class=\"dataframe\">\n",
       "  <thead>\n",
       "    <tr style=\"text-align: right;\">\n",
       "      <th></th>\n",
       "      <th>Username</th>\n",
       "      <th>Password</th>\n",
       "    </tr>\n",
       "    <tr>\n",
       "      <th>Site</th>\n",
       "      <th></th>\n",
       "      <th></th>\n",
       "    </tr>\n",
       "  </thead>\n",
       "  <tbody>\n",
       "    <tr>\n",
       "      <th>www.gmail.com</th>\n",
       "      <td>a_student</td>\n",
       "      <td>P1X7EaeTUZHEJl</td>\n",
       "    </tr>\n",
       "    <tr>\n",
       "      <th>www.wm.edu</th>\n",
       "      <td>WMstudent</td>\n",
       "      <td>51yBIu6u&amp;POJq9</td>\n",
       "    </tr>\n",
       "  </tbody>\n",
       "</table>\n",
       "</div>"
      ],
      "text/plain": [
       "                Username        Password\n",
       "Site                                    \n",
       "www.gmail.com  a_student  P1X7EaeTUZHEJl\n",
       "www.wm.edu     WMstudent  51yBIu6u&POJq9"
      ]
     },
     "execution_count": 88,
     "metadata": {},
     "output_type": "execute_result"
    }
   ],
   "source": [
    "My_Pass_Manager.give_pass()"
   ]
  },
  {
   "cell_type": "markdown",
   "id": "79c5d17d",
   "metadata": {},
   "source": [
    "Additional instructions were given to change the default password for a_student to \"update12345\""
   ]
  },
  {
   "cell_type": "code",
   "execution_count": 83,
   "id": "5296cfa5",
   "metadata": {},
   "outputs": [
    {
     "data": {
      "text/html": [
       "<div>\n",
       "<style scoped>\n",
       "    .dataframe tbody tr th:only-of-type {\n",
       "        vertical-align: middle;\n",
       "    }\n",
       "\n",
       "    .dataframe tbody tr th {\n",
       "        vertical-align: top;\n",
       "    }\n",
       "\n",
       "    .dataframe thead th {\n",
       "        text-align: right;\n",
       "    }\n",
       "</style>\n",
       "<table border=\"1\" class=\"dataframe\">\n",
       "  <thead>\n",
       "    <tr style=\"text-align: right;\">\n",
       "      <th></th>\n",
       "      <th>Username</th>\n",
       "      <th>Password</th>\n",
       "    </tr>\n",
       "    <tr>\n",
       "      <th>Site</th>\n",
       "      <th></th>\n",
       "      <th></th>\n",
       "    </tr>\n",
       "  </thead>\n",
       "  <tbody>\n",
       "    <tr>\n",
       "      <th>www.gmail.com</th>\n",
       "      <td>a_student</td>\n",
       "      <td>update1235</td>\n",
       "    </tr>\n",
       "    <tr>\n",
       "      <th>www.wm.edu</th>\n",
       "      <td>WMstudent</td>\n",
       "      <td>1XE55954260i68</td>\n",
       "    </tr>\n",
       "  </tbody>\n",
       "</table>\n",
       "</div>"
      ],
      "text/plain": [
       "                Username        Password\n",
       "Site                                    \n",
       "www.gmail.com  a_student      update1235\n",
       "www.wm.edu     WMstudent  1XE55954260i68"
      ]
     },
     "execution_count": 83,
     "metadata": {},
     "output_type": "execute_result"
    }
   ],
   "source": [
    "My_Pass_Manager.change_password('www.gmail.com', 'FINAL', 'update1235')\n",
    "My_Pass_Manager.give_pass()"
   ]
  },
  {
   "cell_type": "markdown",
   "id": "37177c93",
   "metadata": {},
   "source": [
    "If given the wrong the wrong master password, the user will be unable to access the list of usernames/passwords"
   ]
  },
  {
   "cell_type": "code",
   "execution_count": 75,
   "id": "b5a932b2",
   "metadata": {},
   "outputs": [
    {
     "name": "stdout",
     "output_type": "stream",
     "text": [
      "Incorrect master password!\n"
     ]
    },
    {
     "data": {
      "text/html": [
       "<div>\n",
       "<style scoped>\n",
       "    .dataframe tbody tr th:only-of-type {\n",
       "        vertical-align: middle;\n",
       "    }\n",
       "\n",
       "    .dataframe tbody tr th {\n",
       "        vertical-align: top;\n",
       "    }\n",
       "\n",
       "    .dataframe thead th {\n",
       "        text-align: right;\n",
       "    }\n",
       "</style>\n",
       "<table border=\"1\" class=\"dataframe\">\n",
       "  <thead>\n",
       "    <tr style=\"text-align: right;\">\n",
       "      <th></th>\n",
       "      <th>Username</th>\n",
       "      <th>Password</th>\n",
       "    </tr>\n",
       "    <tr>\n",
       "      <th>Site</th>\n",
       "      <th></th>\n",
       "      <th></th>\n",
       "    </tr>\n",
       "  </thead>\n",
       "  <tbody>\n",
       "  </tbody>\n",
       "</table>\n",
       "</div>"
      ],
      "text/plain": [
       "Empty DataFrame\n",
       "Columns: [Username, Password]\n",
       "Index: []"
      ]
     },
     "execution_count": 75,
     "metadata": {},
     "output_type": "execute_result"
    }
   ],
   "source": [
    "p_1 = PasswordManager('Student','Pass')\n",
    "p_1.change_password('google', 'Tuna', new_pass = None, criteria = None)\n",
    "p_1.give_pass()"
   ]
  }
 ],
 "metadata": {
  "kernelspec": {
   "display_name": "Python 3 (ipykernel)",
   "language": "python",
   "name": "python3"
  },
  "language_info": {
   "codemirror_mode": {
    "name": "ipython",
    "version": 3
   },
   "file_extension": ".py",
   "mimetype": "text/x-python",
   "name": "python",
   "nbconvert_exporter": "python",
   "pygments_lexer": "ipython3",
   "version": "3.9.12"
  }
 },
 "nbformat": 4,
 "nbformat_minor": 5
}
